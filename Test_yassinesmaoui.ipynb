{
 "cells": [
  {
   "cell_type": "code",
   "execution_count": 12,
   "metadata": {},
   "outputs": [],
   "source": [
    "# Test des fonctions du fichier nn_utils.py\n",
    "\n",
    "# Importations\n",
    "from nn_utils_yassinesmaoui import *\n",
    "import numpy as np\n"
   ]
  },
  {
   "cell_type": "code",
   "execution_count": 2,
   "metadata": {},
   "outputs": [
    {
     "name": "stdout",
     "output_type": "stream",
     "text": [
      "square(z): [4 9 1]\n"
     ]
    }
   ],
   "source": [
    "# 1. Test de square(z)\n",
    "z = np.array([2, 3, -1])\n",
    "print(\"square(z):\", square(z))  # [4 9 1]"
   ]
  },
  {
   "cell_type": "code",
   "execution_count": 3,
   "metadata": {},
   "outputs": [
    {
     "name": "stdout",
     "output_type": "stream",
     "text": [
      "squarederivative(z): [ 4  6 -2]\n"
     ]
    }
   ],
   "source": [
    "\n",
    "# 2. Test de squarederivative(z)\n",
    "print(\"squarederivative(z):\", squarederivative(z))  # [4 6 -2]"
   ]
  },
  {
   "cell_type": "code",
   "execution_count": 4,
   "metadata": {},
   "outputs": [
    {
     "name": "stdout",
     "output_type": "stream",
     "text": [
      "sigmoid(z): [0.88079708 0.95257413 0.26894142]\n"
     ]
    }
   ],
   "source": [
    "\n",
    "# 3. Test de sigmoid(z)\n",
    "print(\"sigmoid(z):\", sigmoid(z))  \n",
    "# Attendu : [0.8808, 0.9526, 0.2689] (valeurs entre 0 et 1)"
   ]
  },
  {
   "cell_type": "code",
   "execution_count": 5,
   "metadata": {},
   "outputs": [
    {
     "name": "stdout",
     "output_type": "stream",
     "text": [
      "sigmoid_derivative(z): [0.10499359 0.04517666 0.19661193]\n"
     ]
    }
   ],
   "source": [
    "# 4. Test de sigmoid_derivative(z)\n",
    "print(\"sigmoid_derivative(z):\", sigmoid_derivative(z))  \n",
    "# Attendu : s(z) * (1 - s(z))"
   ]
  },
  {
   "cell_type": "code",
   "execution_count": 6,
   "metadata": {},
   "outputs": [
    {
     "name": "stdout",
     "output_type": "stream",
     "text": [
      "divide(10, 2): 5.0\n"
     ]
    }
   ],
   "source": [
    "\n",
    "# 5. Test de divide(a, b)\n",
    "print(\"divide(10, 2):\", divide(10, 2))  # 5.0"
   ]
  },
  {
   "cell_type": "code",
   "execution_count": 7,
   "metadata": {},
   "outputs": [
    {
     "name": "stdout",
     "output_type": "stream",
     "text": [
      "Erreur attendue: The divisor cannot be zero.\n"
     ]
    }
   ],
   "source": [
    "\n",
    "#  Tester une division par zéro déclenchera une erreur\n",
    "try:\n",
    "    print(\"divide(10, 0):\", divide(10, 0))  \n",
    "except AssertionError as e:\n",
    "    print(\"Erreur attendue:\", e)"
   ]
  },
  {
   "cell_type": "code",
   "execution_count": 8,
   "metadata": {},
   "outputs": [
    {
     "name": "stdout",
     "output_type": "stream",
     "text": [
      "calculer_carre(5): 25\n",
      "Erreur attendue: The input must be non-negative.\n"
     ]
    }
   ],
   "source": [
    "# 6. Test de calculer_carre(n)\n",
    "print(\"calculer_carre(5):\",calculer_carre(5))  # 25\n",
    "\n",
    "# Erreur avec un entier négatif\n",
    "try:\n",
    "    print(calculer_carre(-1))\n",
    "except AssertionError as e:\n",
    "    print(\"Erreur attendue:\", e)"
   ]
  },
  {
   "cell_type": "code",
   "execution_count": 9,
   "metadata": {},
   "outputs": [
    {
     "name": "stdout",
     "output_type": "stream",
     "text": [
      "square_array(arr):\n",
      " [[ 1  4]\n",
      " [ 9 16]]\n"
     ]
    }
   ],
   "source": [
    "# 8. Test de square_array(arr)\n",
    "arr = np.array([[1, 2], [3, 4]])\n",
    "print(\"square_array(arr):\\n\", square_array(arr))  # [[1 4] [9 16]]\n"
   ]
  },
  {
   "cell_type": "code",
   "execution_count": 10,
   "metadata": {},
   "outputs": [
    {
     "name": "stdout",
     "output_type": "stream",
     "text": [
      "relu_array(arr2): [0 0 3]\n"
     ]
    }
   ],
   "source": [
    "# 9. Test de relu_array(arr)\n",
    "arr2 = np.array([-5, 0, 3])\n",
    "print(\"relu_array(arr2):\", relu_array(arr2))  # [0 0 3]"
   ]
  },
  {
   "cell_type": "code",
   "execution_count": 11,
   "metadata": {},
   "outputs": [
    {
     "name": "stdout",
     "output_type": "stream",
     "text": [
      "normalize_array(arr3): [0.  0.5 1. ]\n"
     ]
    }
   ],
   "source": [
    "# 10. Test de normalize_array(arr)\n",
    "arr3 = np.array([10, 15, 20])\n",
    "print(\"normalize_array(arr3):\", normalize_array(arr3))  \n",
    "# [0.0, 0.5, 1.0]\n"
   ]
  }
 ],
 "metadata": {
  "kernelspec": {
   "display_name": "Python 3",
   "language": "python",
   "name": "python3"
  },
  "language_info": {
   "codemirror_mode": {
    "name": "ipython",
    "version": 3
   },
   "file_extension": ".py",
   "mimetype": "text/x-python",
   "name": "python",
   "nbconvert_exporter": "python",
   "pygments_lexer": "ipython3",
   "version": "3.13.1"
  }
 },
 "nbformat": 4,
 "nbformat_minor": 2
}
